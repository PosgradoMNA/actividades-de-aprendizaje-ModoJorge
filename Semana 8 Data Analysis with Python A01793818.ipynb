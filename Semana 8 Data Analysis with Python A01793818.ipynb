{
 "cells": [
  {
   "cell_type": "markdown",
   "id": "0e7e3a18",
   "metadata": {},
   "source": [
    "# Modulo 5 : Evaluación y refinamiento del modelo\n",
    "\n",
    "### Jorge Ariel Bermúdez Tellería A01793818"
   ]
  },
  {
   "cell_type": "markdown",
   "id": "ba436ebd",
   "metadata": {},
   "source": [
    "Objetivos de aprendizaje:\n",
    "\n",
    "- Evaluación de modelos\n",
    "- Seleccionar modelos, sobre entrenamiento y sub entrenamiento\n",
    "- Ridge Regression\n",
    "- Grid search\n"
   ]
  },
  {
   "cell_type": "code",
   "execution_count": null,
   "id": "863d3f19",
   "metadata": {},
   "outputs": [],
   "source": [
    "## Evaluación del modelo\n",
    "\n",
    "## El split de la dara es para hacer una división entre la data que se testea vs la data que entrena el modelo\n",
    "\n",
    "From sklearn.model_selection import traint_test_split\n",
    "\n",
    "x_train, x_test, y_train, y_test = train_test_split(x_data,y_data, test_size= 0.3, random_state = 0)\n",
    "\n",
    "## x_train y y_train son las partes del dataset para entrenamiento\n",
    "## x_test y y_test son las partes del dataset para test\n",
    "\n",
    "## test_size es el porcentaje de la data que se utilizará pata test\n",
    "\n",
    "Para disminuir el error es bueno utilizar cross_val_score() \n",
    "\n",
    "From sklearn.model_selection import cross_val_score()\n",
    "\n",
    "scores = crosss_val_score(lr,x_data,y_data,cv=3)\n",
    "np.mean(scores)\n",
    "\n",
    "yhat = cross_val_predict(lr2e,x_data,y_data,cv=3)"
   ]
  },
  {
   "cell_type": "code",
   "execution_count": null,
   "id": "275e9da0",
   "metadata": {},
   "outputs": [],
   "source": [
    "## Ridge regression\n",
    "\n",
    "From sklearn.model_selection import Ridge\n",
    "\n",
    "RidgeModel = Ridge(alpha = 0.1)\n",
    "RidgeModel.fit(x,y)\n",
    "\n",
    "Yhat =RidgeModel.predict(x)"
   ]
  },
  {
   "cell_type": "code",
   "execution_count": null,
   "id": "052e7134",
   "metadata": {},
   "outputs": [],
   "source": [
    "## Grid search\n",
    "\n",
    "## Este proceso lo que hace es una busquedad de los parametros mas optimos de nuestro modelo\n",
    "\n",
    "From sklearn.model_selection import GridSearchCV\n",
    "\n",
    "parametros = [{'alpha':[0.001,0.1,1,10,100],'normalize':[True,False]]\n",
    "RR:Rideg()\n",
    "               \n",
    "Grid1 : GridSearchCV(RR,parametros,cv=4)\n",
    "Grid1.fit(x_data['variables'],y_data)\n",
    "               \n",
    "Grid1.best_estimator_\n",
    "               \n",
    "Scores = Grid1.c_results_"
   ]
  }
 ],
 "metadata": {
  "kernelspec": {
   "display_name": "Python 3 (ipykernel)",
   "language": "python",
   "name": "python3"
  },
  "language_info": {
   "codemirror_mode": {
    "name": "ipython",
    "version": 3
   },
   "file_extension": ".py",
   "mimetype": "text/x-python",
   "name": "python",
   "nbconvert_exporter": "python",
   "pygments_lexer": "ipython3",
   "version": "3.9.12"
  }
 },
 "nbformat": 4,
 "nbformat_minor": 5
}
